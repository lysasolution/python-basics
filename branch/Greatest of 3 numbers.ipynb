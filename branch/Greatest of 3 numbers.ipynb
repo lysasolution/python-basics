{
 "cells": [
  {
   "cell_type": "markdown",
   "id": "17634dd5",
   "metadata": {},
   "source": [
    "# Greatest of 3 numbers"
   ]
  },
  {
   "cell_type": "markdown",
   "id": "c1783a56",
   "metadata": {},
   "source": [
    "## if...else Statements"
   ]
  },
  {
   "cell_type": "code",
   "execution_count": 18,
   "id": "965ae6ae",
   "metadata": {},
   "outputs": [],
   "source": [
    "def first_trial(first,second,third):\n",
    "    print(\"First Trial\")\n",
    "    if first > second:\n",
    "        if first > third:\n",
    "             print(f\"The greatest number of {first,second,third} is : {first}\")\n",
    "    else:\n",
    "        if second > third:\n",
    "            print(f\"The greatest number of {first,second,third} is : {second}\")\n",
    "        else:\n",
    "            print(f\"The greatest number of {first,second,third} is : {third}\")            "
   ]
  },
  {
   "cell_type": "markdown",
   "id": "52c086f8",
   "metadata": {},
   "source": [
    "## elif Statements"
   ]
  },
  {
   "cell_type": "code",
   "execution_count": 19,
   "id": "e6e63f1c",
   "metadata": {},
   "outputs": [],
   "source": [
    "def second_trial(first,second,third):\n",
    "    print(\"Second Trial\")\n",
    "    if first >= second and first >= third:\n",
    "        print(f\"The greatest number of {first,second,third} is : {first}\")\n",
    "    elif second >= first and second >= third:\n",
    "        print(f\"The greatest number of {first,second,third} is : {second}\")\n",
    "    else:\n",
    "        print(f\"The greatest number of {first,second,third} is : {third}\")"
   ]
  },
  {
   "cell_type": "markdown",
   "id": "5b523546",
   "metadata": {},
   "source": [
    "## Shorthand if..else"
   ]
  },
  {
   "cell_type": "code",
   "execution_count": 20,
   "id": "b3546836",
   "metadata": {},
   "outputs": [],
   "source": [
    "def third_trial(first,second,third):\n",
    "    print(\"Third Trial\")\n",
    "    max = first if first>second else second\n",
    "    max = third if third>max else max\n",
    "    print(f\"The greatest number of {first,second,third} is : {max}\")"
   ]
  },
  {
   "cell_type": "code",
   "execution_count": 21,
   "id": "4fc66f37",
   "metadata": {},
   "outputs": [
    {
     "name": "stdout",
     "output_type": "stream",
     "text": [
      "Test Case 1\n",
      "First Trial\n",
      "The greatest number of (3, 5, 6) is : 6\n",
      "Second Trial\n",
      "The greatest number of (3, 5, 6) is : 6\n",
      "Third Trial\n",
      "The greatest number of (3, 5, 6) is : 6\n",
      "\n",
      "Test Case 2\n",
      "First Trial\n",
      "The greatest number of (3, 6, 5) is : 6\n",
      "Second Trial\n",
      "The greatest number of (3, 6, 5) is : 6\n",
      "Third Trial\n",
      "The greatest number of (3, 6, 5) is : 6\n",
      "\n",
      "Test Case 3\n",
      "First Trial\n",
      "The greatest number of (6, 5, 3) is : 6\n",
      "Second Trial\n",
      "The greatest number of (6, 5, 3) is : 6\n",
      "Third Trial\n",
      "The greatest number of (6, 5, 3) is : 6\n",
      "\n",
      "Test Case 4\n",
      "First Trial\n",
      "The greatest number of (3, 3, 3) is : 3\n",
      "Second Trial\n",
      "The greatest number of (3, 3, 3) is : 3\n",
      "Third Trial\n",
      "The greatest number of (3, 3, 3) is : 3\n",
      "\n",
      "Test Case 5\n",
      "First Trial\n",
      "The greatest number of (3, 5, -6) is : 5\n",
      "Second Trial\n",
      "The greatest number of (3, 5, -6) is : 5\n",
      "Third Trial\n",
      "The greatest number of (3, 5, -6) is : 5\n",
      "\n",
      "Test Case 6\n",
      "First Trial\n",
      "The greatest number of (-3, 0, -6) is : 0\n",
      "Second Trial\n",
      "The greatest number of (-3, 0, -6) is : 0\n",
      "Third Trial\n",
      "The greatest number of (-3, 0, -6) is : 0\n",
      "\n",
      "Test Case 7\n",
      "First Trial\n",
      "The greatest number of (-3, -3, -6) is : -3\n",
      "Second Trial\n",
      "The greatest number of (-3, -3, -6) is : -3\n",
      "Third Trial\n",
      "The greatest number of (-3, -3, -6) is : -3\n",
      "\n",
      "Test Case 8\n",
      "First Trial\n",
      "The greatest number of (-3, -6, -6) is : -3\n",
      "Second Trial\n",
      "The greatest number of (-3, -6, -6) is : -3\n",
      "Third Trial\n",
      "The greatest number of (-3, -6, -6) is : -3\n"
     ]
    }
   ],
   "source": [
    "if __name__ == \"__main__\":\n",
    "    #Test Case 1\n",
    "    print(\"Test Case 1\")\n",
    "    first = 3;second = 5;third=6\n",
    "    first_trial(first,second,third)\n",
    "    second_trial(first,second,third)\n",
    "    third_trial(first,second,third)\n",
    "    \n",
    "    #Test Case 2\n",
    "    print(\"\\nTest Case 2\")\n",
    "    first = 3;second = 6;third=5\n",
    "    first_trial(first,second,third)\n",
    "    second_trial(first,second,third)\n",
    "    third_trial(first,second,third)\n",
    "    \n",
    "    #Test Case 3\n",
    "    print(\"\\nTest Case 3\")\n",
    "    first = 6;second = 5;third=3\n",
    "    first_trial(first,second,third)\n",
    "    second_trial(first,second,third)\n",
    "    third_trial(first,second,third)\n",
    "    \n",
    "    #Test Case 4\n",
    "    print(\"\\nTest Case 4\")\n",
    "    first = 3;second = 3;third=3\n",
    "    first_trial(first,second,third)\n",
    "    second_trial(first,second,third)\n",
    "    third_trial(first,second,third)\n",
    "    \n",
    "    #Test Case 5\n",
    "    print(\"\\nTest Case 5\")\n",
    "    first = 3;second = 5;third=-6\n",
    "    first_trial(first,second,third)\n",
    "    second_trial(first,second,third)\n",
    "    third_trial(first,second,third)\n",
    "    \n",
    "    #Test Case 6\n",
    "    print(\"\\nTest Case 6\")\n",
    "    first = -3;second = 0;third=-6\n",
    "    first_trial(first,second,third)\n",
    "    second_trial(first,second,third)\n",
    "    third_trial(first,second,third)\n",
    "    \n",
    "    #Test Case 7\n",
    "    print(\"\\nTest Case 7\")\n",
    "    first = -3;second = -3;third=-6\n",
    "    first_trial(first,second,third)\n",
    "    second_trial(first,second,third)\n",
    "    third_trial(first,second,third)\n",
    "    \n",
    "    #Test Case 8\n",
    "    print(\"\\nTest Case 8\")\n",
    "    first = -3;second = -6;third=-6\n",
    "    first_trial(first,second,third)\n",
    "    second_trial(first,second,third)\n",
    "    third_trial(first,second,third)"
   ]
  }
 ],
 "metadata": {
  "kernelspec": {
   "display_name": "Python 3 (ipykernel)",
   "language": "python",
   "name": "python3"
  },
  "language_info": {
   "codemirror_mode": {
    "name": "ipython",
    "version": 3
   },
   "file_extension": ".py",
   "mimetype": "text/x-python",
   "name": "python",
   "nbconvert_exporter": "python",
   "pygments_lexer": "ipython3",
   "version": "3.8.2"
  }
 },
 "nbformat": 4,
 "nbformat_minor": 5
}
