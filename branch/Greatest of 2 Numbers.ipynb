{
 "cells": [
  {
   "cell_type": "markdown",
   "id": "21925fac",
   "metadata": {},
   "source": [
    "# Greatest of 2 numbers"
   ]
  },
  {
   "cell_type": "code",
   "execution_count": 1,
   "id": "e45b59aa",
   "metadata": {},
   "outputs": [
    {
     "name": "stdout",
     "output_type": "stream",
     "text": [
      "Enter the first number : 3\n",
      "Enter the second number : 9\n"
     ]
    }
   ],
   "source": [
    "first = int(input(\"Enter the first number : \"))\n",
    "second = int(input(\"Enter the second number : \"))"
   ]
  },
  {
   "cell_type": "markdown",
   "id": "25f40fc6",
   "metadata": {},
   "source": [
    "## Using if...else"
   ]
  },
  {
   "cell_type": "code",
   "execution_count": 4,
   "id": "2e59e30c",
   "metadata": {},
   "outputs": [
    {
     "name": "stdout",
     "output_type": "stream",
     "text": [
      "The greatest number is : 9\n"
     ]
    }
   ],
   "source": [
    "if first > second:\n",
    "    print(f\"The greatest number is : {first}\")\n",
    "else:\n",
    "    if first < second:\n",
    "        print(f\"The greatest number is : {second}\")\n",
    "    else:\n",
    "        print(\"The numbers are equal\")"
   ]
  },
  {
   "cell_type": "markdown",
   "id": "7f66bcc8",
   "metadata": {},
   "source": [
    "## Using elif"
   ]
  },
  {
   "cell_type": "code",
   "execution_count": 5,
   "id": "72572a85",
   "metadata": {},
   "outputs": [
    {
     "name": "stdout",
     "output_type": "stream",
     "text": [
      "The greatest number is : 9\n"
     ]
    }
   ],
   "source": [
    "if first > second:\n",
    "    print(f\"The greatest number is : {first}\")\n",
    "elif first < second:\n",
    "    print(f\"The greatest number is : {second}\")\n",
    "else:\n",
    "    print(\"The numbers are equal\")"
   ]
  }
 ],
 "metadata": {
  "kernelspec": {
   "display_name": "Python 3 (ipykernel)",
   "language": "python",
   "name": "python3"
  },
  "language_info": {
   "codemirror_mode": {
    "name": "ipython",
    "version": 3
   },
   "file_extension": ".py",
   "mimetype": "text/x-python",
   "name": "python",
   "nbconvert_exporter": "python",
   "pygments_lexer": "ipython3",
   "version": "3.8.2"
  }
 },
 "nbformat": 4,
 "nbformat_minor": 5
}
